{
 "cells": [
  {
   "cell_type": "markdown",
   "metadata": {},
   "source": [
    "# Árvores II - Tarefa 2"
   ]
  },
  {
   "cell_type": "markdown",
   "metadata": {},
   "source": [
    "### 1. Carregar as bases\n",
    "\n",
    "Vamos carregar as bases lidas na tarefa passada. Se você salvou essas bases em arquivo texto, basta fazer a leitura com o comando ```pd.read_csv``` das seguintes bases:\n",
    "\n",
    "- X_train\n",
    "- Y_train\n",
    "- X_test\n",
    "- Y_test\n",
    "\n",
    "Não se esqueça de considerar a leitura dos índices dos arquivos no ```read_csv()```!"
   ]
  },
  {
   "cell_type": "code",
   "execution_count": 3,
   "metadata": {},
   "outputs": [],
   "source": [
    "import pandas as pd\n",
    "import seaborn as sns\n",
    "import matplotlib.pyplot as plt\n",
    "import numpy as np\n",
    "import os\n",
    "\n",
    "from sklearn.tree import DecisionTreeClassifier\n",
    "from sklearn.model_selection import train_test_split\n",
    "from sklearn.metrics import accuracy_score, confusion_matrix\n",
    "from sklearn.model_selection import cross_val_score\n"
   ]
  },
  {
   "cell_type": "code",
   "execution_count": null,
   "metadata": {},
   "outputs": [],
   "source": []
  },
  {
   "cell_type": "markdown",
   "metadata": {},
   "source": [
    "### 2. Divisão da base em Treino, Validação e Teste\n",
    "\n",
    "A base já se encontra dividida em Treino e Validação. O que vamos fazer então é extrair uma base de Validação da base de Treino.\n",
    "\n",
    "Extraia 25% da base de treino como base de validação."
   ]
  },
  {
   "cell_type": "markdown",
   "metadata": {},
   "source": [
    "### 3. Melhores 3 variáveis\n",
    "\n",
    "Rode uma árvore com profundidade máxima igual a 4 para prever a atividade humana com todas as variáveis.\n",
    "Observe a importância das variáveis e considere as 3 variáveis com maior importância para os próximos passos.\n",
    "Dica: utilize o atributo ```clf.feature_importances_``` da árvore treinada."
   ]
  },
  {
   "cell_type": "markdown",
   "metadata": {},
   "source": [
    "### 4. Construa uma árvore com as 3 melhores variáveis\n",
    "\n",
    "Utilizando as três variáveis encontradas acima, construa uma árvore de decisão. Encontre o melhor ```ccp_alpha``` utilizando a base de validação, conforme a estrutura que vimos em aula."
   ]
  },
  {
   "cell_type": "markdown",
   "metadata": {},
   "source": [
    "### 5. Avaliação do modelo\n",
    "\n",
    "Avalie a árvore encontrada no item anterior na base de testes."
   ]
  },
  {
   "cell_type": "code",
   "execution_count": null,
   "metadata": {},
   "outputs": [
    {
     "name": "stderr",
     "output_type": "stream",
     "text": [
      "C:\\Users\\djang\\AppData\\Local\\Temp\\ipykernel_7844\\3211345365.py:16: FutureWarning: The 'delim_whitespace' keyword in pd.read_csv is deprecated and will be removed in a future version. Use ``sep='\\s+'`` instead\n",
      "  features_df = pd.read_csv(caminho_features, delim_whitespace=True, header=None, usecols=[1])\n",
      "C:\\Users\\djang\\AppData\\Local\\Temp\\ipykernel_7844\\3211345365.py:25: FutureWarning: The 'delim_whitespace' keyword in pd.read_csv is deprecated and will be removed in a future version. Use ``sep='\\s+'`` instead\n",
      "  y = pd.read_csv(caminho_y, delim_whitespace=True, header=None, names=['Activity'])\n",
      "C:\\Users\\djang\\AppData\\Local\\Temp\\ipykernel_7844\\3211345365.py:31: FutureWarning: The 'delim_whitespace' keyword in pd.read_csv is deprecated and will be removed in a future version. Use ``sep='\\s+'`` instead\n",
      "  X = pd.read_csv(caminho_X, delim_whitespace=True, header=None)\n"
     ]
    }
   ],
   "source": [
    "# Dicionário para mapear os IDs das atividades para os nomes corretos\n",
    "activity_labels = {\n",
    "    1: \"Walking\",\n",
    "    2: \"Walking Upstairs\",\n",
    "    3: \"Walking Downstairs\",\n",
    "    4: \"Sitting\",\n",
    "    5: \"Standing\",\n",
    "    6: \"Laying\"\n",
    "}\n",
    "\n",
    "def process_data(caminho_features, caminho_subject, caminho_X, caminho_y, tipo='train'):\n",
    "    # Criar diretório de output se não existir\n",
    "    os.makedirs(\"./output\", exist_ok=True)\n",
    "\n",
    "    # Carregar features.txt em uma Series (nomes das colunas)\n",
    "    features_df = pd.read_csv(caminho_features, delim_whitespace=True, header=None, usecols=[1])\n",
    "    features = features_df.squeeze().str.strip()  # Remover espaços extras\n",
    "    features.name = 'Var'\n",
    "\n",
    "    # Carregar subject_train.txt ou subject_test.txt (IDs dos participantes)\n",
    "    subject_df = pd.read_csv(caminho_subject, header=None, names=['subject'])\n",
    "    subject = subject_df.squeeze()\n",
    "\n",
    "    # Carregar y_train.txt ou y_test.txt (variável resposta)\n",
    "    y = pd.read_csv(caminho_y, delim_whitespace=True, header=None, names=['Activity'])\n",
    "\n",
    "    # Mapear os rótulos numéricos para nomes de atividades\n",
    "    y['Activity'] = y['Activity'].map(activity_labels)\n",
    "\n",
    "    # Carregar X_train.txt ou X_test.txt (dados dos sensores)\n",
    "    X = pd.read_csv(caminho_X, delim_whitespace=True, header=None)\n",
    "\n",
    "    # Renomear as colunas de X usando os nomes em features\n",
    "    X.columns = features\n",
    "\n",
    "    # Treinar um modelo para selecionar as 3 melhores variáveis\n",
    "    clf = DecisionTreeClassifier(random_state=42)\n",
    "    clf.fit(X, y['Activity'])  \n",
    "    importances = clf.feature_importances_\n",
    "    \n",
    "    # Selecionar as 3 melhores variáveis com base na importância\n",
    "    top_features_idx = np.argsort(importances)[-3:]  # Índices das 3 mais importantes\n",
    "    selected_columns = features.iloc[top_features_idx].values.tolist()  # Nomes das features\n",
    "\n",
    "    # Criar DataFrame com as colunas selecionadas\n",
    "    X_selected = X[selected_columns]\n",
    "\n",
    "    # Salvar os DataFrames em arquivos CSV\n",
    "    X.to_csv(f\"./output/X_{tipo}.csv\", index=False)\n",
    "    y.to_csv(f\"./output/y_{tipo}.csv\", index=False)\n",
    "    X_selected.to_csv(f\"./output/X_{tipo}_selected.csv\", index=False)\n",
    "\n",
    "    return X, X_selected, y, selected_columns\n",
    "\n",
    "# Aplicando a Validação Cruzada (K-Fold)\n",
    "def cross_validate_model(X_train, y_train, ccp_alpha=0.0005, cv=5):\n",
    "    model = DecisionTreeClassifier(ccp_alpha=ccp_alpha, random_state=42)\n",
    "    \n",
    "    # Aplicando Cross Validation\n",
    "    scores = cross_val_score(model, X_train, y_train, cv=cv)\n",
    "    \n",
    "    print(f\"Acurácias por fold: {scores}\")\n",
    "    print(f\"Média da acurácia: {scores.mean():.4f}\")\n",
    "    \n",
    "    return scores.mean()\n",
    "\n",
    "# Processar os dados de treino e teste\n",
    "X_train, X_train_selected, y_train, selected_features = process_data(\n",
    "    \"UCI HAR Dataset/features.txt\",\n",
    "    \"UCI HAR Dataset/train/subject_train.txt\",\n",
    "    \"UCI HAR Dataset/train/X_train.txt\",\n",
    "    \"UCI HAR Dataset/train/y_train.txt\",\n",
    "    tipo=\"train\"\n",
    ")\n",
    "\n",
    "X_test, X_test_selected, y_test, _ = process_data(\n",
    "    \"UCI HAR Dataset/features.txt\",\n",
    "    \"UCI HAR Dataset/test/subject_test.txt\",\n",
    "    \"UCI HAR Dataset/test/X_test.txt\",\n",
    "    \"UCI HAR Dataset/test/y_test.txt\",\n",
    "    tipo=\"test\"\n",
    ")\n",
    "\n",
    "# Rodar Validação Cruzada\n",
    "best_accuracy = cross_validate_model(X_train_selected, y_train['Activity'], ccp_alpha=0.0005, cv=5)\n"
   ]
  },
  {
   "cell_type": "code",
   "execution_count": null,
   "metadata": {},
   "outputs": [],
   "source": [
    "%%time\n",
    "\n",
    "# Código para treinar a árvore com o melhor ccp_alpha\n",
    "from sklearn.tree import DecisionTreeClassifier\n",
    "\n",
    "# Criar e treinar a árvore com o melhor ccp_alpha encontrado\n",
    "melhor_ccp_alpha = 0.0005112202485292351  # Valor escolhido\n",
    "arvore_final = DecisionTreeClassifier(ccp_alpha=melhor_ccp_alpha, random_state=42)\n",
    "arvore_final.fit(X_train, y_train)\n",
    "\n",
    "# Avaliação do modelo\n",
    "acuracia_treino = arvore_final.score(X_train, y_train)\n",
    "acuracia_teste = arvore_final.score(X_test, y_test)\n",
    "\n",
    "print(f\"Acurácia no treino: {acuracia_treino:.4f}\")\n",
    "print(f\"Acurácia no teste: {acuracia_teste:.4f}\")\n"
   ]
  },
  {
   "cell_type": "code",
   "execution_count": null,
   "metadata": {},
   "outputs": [],
   "source": []
  }
 ],
 "metadata": {
  "kernelspec": {
   "display_name": "Python [conda env:base] *",
   "language": "python",
   "name": "conda-base-py"
  },
  "language_info": {
   "codemirror_mode": {
    "name": "ipython",
    "version": 3
   },
   "file_extension": ".py",
   "mimetype": "text/x-python",
   "name": "python",
   "nbconvert_exporter": "python",
   "pygments_lexer": "ipython3",
   "version": "3.12.3"
  }
 },
 "nbformat": 4,
 "nbformat_minor": 4
}
