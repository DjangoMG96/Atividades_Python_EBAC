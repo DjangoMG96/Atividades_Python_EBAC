{
 "cells": [
  {
   "cell_type": "markdown",
   "metadata": {},
   "source": [
    "# Regressão Logística I\n",
    "## Tarefa II\n",
    "\n",
    "Vamos trabalhar com a mesma base do exercício anterior, mas vamos aprofundar um pouco mais a nossa regressão."
   ]
  },
  {
   "cell_type": "code",
   "execution_count": 70,
   "metadata": {},
   "outputs": [],
   "source": [
    "import pandas as pd\n",
    "import seaborn as sns\n",
    "import matplotlib.pyplot as plt\n",
    "import numpy as np\n",
    "\n",
    "import statsmodels.formula.api as smf\n",
    "import statsmodels.api as sm\n",
    "\n",
    "from sklearn.metrics import accuracy_score, roc_auc_score, roc_curve"
   ]
  },
  {
   "cell_type": "code",
   "execution_count": 26,
   "metadata": {
    "tags": []
   },
   "outputs": [
    {
     "data": {
      "text/html": [
       "<div>\n",
       "<style scoped>\n",
       "    .dataframe tbody tr th:only-of-type {\n",
       "        vertical-align: middle;\n",
       "    }\n",
       "\n",
       "    .dataframe tbody tr th {\n",
       "        vertical-align: top;\n",
       "    }\n",
       "\n",
       "    .dataframe thead th {\n",
       "        text-align: right;\n",
       "    }\n",
       "</style>\n",
       "<table border=\"1\" class=\"dataframe\">\n",
       "  <thead>\n",
       "    <tr style=\"text-align: right;\">\n",
       "      <th></th>\n",
       "      <th>age</th>\n",
       "      <th>sex</th>\n",
       "      <th>cp</th>\n",
       "      <th>trestbps</th>\n",
       "      <th>chol</th>\n",
       "      <th>fbs</th>\n",
       "      <th>restecg</th>\n",
       "      <th>thalach</th>\n",
       "      <th>exang</th>\n",
       "      <th>oldpeak</th>\n",
       "      <th>slope</th>\n",
       "      <th>ca</th>\n",
       "      <th>thal</th>\n",
       "      <th>num</th>\n",
       "      <th>flag_doente</th>\n",
       "    </tr>\n",
       "  </thead>\n",
       "  <tbody>\n",
       "    <tr>\n",
       "      <th>0</th>\n",
       "      <td>63.0</td>\n",
       "      <td>1.0</td>\n",
       "      <td>1.0</td>\n",
       "      <td>145.0</td>\n",
       "      <td>233.0</td>\n",
       "      <td>1.0</td>\n",
       "      <td>2.0</td>\n",
       "      <td>150.0</td>\n",
       "      <td>0.0</td>\n",
       "      <td>2.3</td>\n",
       "      <td>3.0</td>\n",
       "      <td>0.0</td>\n",
       "      <td>6.0</td>\n",
       "      <td>0</td>\n",
       "      <td>0</td>\n",
       "    </tr>\n",
       "    <tr>\n",
       "      <th>1</th>\n",
       "      <td>67.0</td>\n",
       "      <td>1.0</td>\n",
       "      <td>4.0</td>\n",
       "      <td>160.0</td>\n",
       "      <td>286.0</td>\n",
       "      <td>0.0</td>\n",
       "      <td>2.0</td>\n",
       "      <td>108.0</td>\n",
       "      <td>1.0</td>\n",
       "      <td>1.5</td>\n",
       "      <td>2.0</td>\n",
       "      <td>3.0</td>\n",
       "      <td>3.0</td>\n",
       "      <td>2</td>\n",
       "      <td>1</td>\n",
       "    </tr>\n",
       "    <tr>\n",
       "      <th>2</th>\n",
       "      <td>67.0</td>\n",
       "      <td>1.0</td>\n",
       "      <td>4.0</td>\n",
       "      <td>120.0</td>\n",
       "      <td>229.0</td>\n",
       "      <td>0.0</td>\n",
       "      <td>2.0</td>\n",
       "      <td>129.0</td>\n",
       "      <td>1.0</td>\n",
       "      <td>2.6</td>\n",
       "      <td>2.0</td>\n",
       "      <td>2.0</td>\n",
       "      <td>7.0</td>\n",
       "      <td>1</td>\n",
       "      <td>1</td>\n",
       "    </tr>\n",
       "    <tr>\n",
       "      <th>3</th>\n",
       "      <td>37.0</td>\n",
       "      <td>1.0</td>\n",
       "      <td>3.0</td>\n",
       "      <td>130.0</td>\n",
       "      <td>250.0</td>\n",
       "      <td>0.0</td>\n",
       "      <td>0.0</td>\n",
       "      <td>187.0</td>\n",
       "      <td>0.0</td>\n",
       "      <td>3.5</td>\n",
       "      <td>3.0</td>\n",
       "      <td>0.0</td>\n",
       "      <td>3.0</td>\n",
       "      <td>0</td>\n",
       "      <td>0</td>\n",
       "    </tr>\n",
       "    <tr>\n",
       "      <th>4</th>\n",
       "      <td>41.0</td>\n",
       "      <td>0.0</td>\n",
       "      <td>2.0</td>\n",
       "      <td>130.0</td>\n",
       "      <td>204.0</td>\n",
       "      <td>0.0</td>\n",
       "      <td>2.0</td>\n",
       "      <td>172.0</td>\n",
       "      <td>0.0</td>\n",
       "      <td>1.4</td>\n",
       "      <td>1.0</td>\n",
       "      <td>0.0</td>\n",
       "      <td>3.0</td>\n",
       "      <td>0</td>\n",
       "      <td>0</td>\n",
       "    </tr>\n",
       "  </tbody>\n",
       "</table>\n",
       "</div>"
      ],
      "text/plain": [
       "    age  sex   cp  trestbps   chol  fbs  restecg  thalach  exang  oldpeak  \\\n",
       "0  63.0  1.0  1.0     145.0  233.0  1.0      2.0    150.0    0.0      2.3   \n",
       "1  67.0  1.0  4.0     160.0  286.0  0.0      2.0    108.0    1.0      1.5   \n",
       "2  67.0  1.0  4.0     120.0  229.0  0.0      2.0    129.0    1.0      2.6   \n",
       "3  37.0  1.0  3.0     130.0  250.0  0.0      0.0    187.0    0.0      3.5   \n",
       "4  41.0  0.0  2.0     130.0  204.0  0.0      2.0    172.0    0.0      1.4   \n",
       "\n",
       "   slope   ca  thal  num  flag_doente  \n",
       "0    3.0  0.0   6.0    0            0  \n",
       "1    2.0  3.0   3.0    2            1  \n",
       "2    2.0  2.0   7.0    1            1  \n",
       "3    3.0  0.0   3.0    0            0  \n",
       "4    1.0  0.0   3.0    0            0  "
      ]
     },
     "execution_count": 26,
     "metadata": {},
     "output_type": "execute_result"
    }
   ],
   "source": [
    "url = 'https://archive.ics.uci.edu/ml/machine-learning-databases/heart-disease/processed.cleveland.data'\n",
    "\n",
    "df = pd.read_csv(url, \n",
    "                 names=['age', 'sex', 'cp', 'trestbps', 'chol', 'fbs', 'restecg',\n",
    "                        'thalach', 'exang', 'oldpeak', 'slope', 'ca', 'thal', 'num'], na_values=\"?\")  # Tratar valores ausentes corretamente\n",
    "df['flag_doente'] = (df['num']!=0).astype('int64')\n",
    "df.head()"
   ]
  },
  {
   "cell_type": "markdown",
   "metadata": {},
   "source": [
    "A descrição das variáveis está recortada abaixo:\n",
    "- age: idade do paciente em anos\n",
    "- sex: sexo (1 = male; 0 = female)  \n",
    "- cp: tipo de dor no peito\n",
    "  - 1: angina típica\n",
    "  - 2: angina atípica\n",
    "  - 3: dor não-angina\n",
    "  - 4: assintomático\n",
    "- trestbps: pressão sanguínea em repouso (em mm Hg na admissão ao hospital\n",
    "- chol: colesterol sérico em mg/dl\n",
    "- fbs: (açúcar no sangue em jejum > 120 mg/dl) (1 = True; 0 = False)\n",
    "- restecg: resultados eletrocardiográficos em repouso\n",
    "  - 0: normal\n",
    "  - 1: tendo anormalidade da onda ST-T (Inversões de onda T e / ou ST com elevação ou depressão de > 0.05 mV)\n",
    "  - 2: mostrando hipertrofia ventricular esquerda provável ou definitiva pelos critérios de Estes\n",
    "- thalach: frequência cardíaca máxima alcançada\n",
    "- exang: angina induzida por exercício(1 = sim; 0 = não)\n",
    "- oldpeak = Depressão de ST induzida por exercício em relação ao repouso\n",
    "- slope: Depressão de ST induzida por exercício em relação ao repouso\n",
    "  - 1: inclinação ascendente\n",
    "  - 2: estável\n",
    "  - 3: inclinação descendente\n",
    "- ca: número de vasos principais (0-3) coloridos por fluorosopia\n",
    "- thal: 3 = normal; 6 = defeito corrigido; 7 = defeito reversível\n",
    "- num: diagnóstico de doença cardíaga (status de doença angiográfica)"
   ]
  },
  {
   "cell_type": "code",
   "execution_count": 27,
   "metadata": {},
   "outputs": [
    {
     "name": "stdout",
     "output_type": "stream",
     "text": [
      "<class 'pandas.core.frame.DataFrame'>\n",
      "RangeIndex: 303 entries, 0 to 302\n",
      "Data columns (total 15 columns):\n",
      " #   Column       Non-Null Count  Dtype  \n",
      "---  ------       --------------  -----  \n",
      " 0   age          303 non-null    float64\n",
      " 1   sex          303 non-null    float64\n",
      " 2   cp           303 non-null    float64\n",
      " 3   trestbps     303 non-null    float64\n",
      " 4   chol         303 non-null    float64\n",
      " 5   fbs          303 non-null    float64\n",
      " 6   restecg      303 non-null    float64\n",
      " 7   thalach      303 non-null    float64\n",
      " 8   exang        303 non-null    float64\n",
      " 9   oldpeak      303 non-null    float64\n",
      " 10  slope        303 non-null    float64\n",
      " 11  ca           299 non-null    float64\n",
      " 12  thal         301 non-null    float64\n",
      " 13  num          303 non-null    int64  \n",
      " 14  flag_doente  303 non-null    int64  \n",
      "dtypes: float64(13), int64(2)\n",
      "memory usage: 35.6 KB\n"
     ]
    }
   ],
   "source": [
    "df.info()"
   ]
  },
  {
   "cell_type": "markdown",
   "metadata": {},
   "source": [
    "1. Considere o script que monta a análise bivariada que você fez na tarefa anterior. Transforme esse script em uma função, que deve:\n",
    "- Ter como parâmetros de entrada:\n",
    "    - Um *dataframe* contendo os dados a serem avaliados\n",
    "    - Um *string* contendo o nome da variável resposta\n",
    "    - Um *string* contendo o nome da variável explicativa\n",
    "- E deve retornar um *dataframe* com os dados da bivariada. \n",
    "**Monte** a mesma bivariada pelo menos três variáveis qualitativas do *data-frame*. Qual delas parece discriminar mais o risco?"
   ]
  },
  {
   "cell_type": "code",
   "execution_count": 30,
   "metadata": {},
   "outputs": [],
   "source": [
    "def bivariada(df, target_var, feature_var):\n",
    "    \"\"\"\n",
    "    Calcula a tabela bivariada para uma variável explicativa em relação ao target.\n",
    "    \n",
    "    Parâmetros:\n",
    "        df (pd.DataFrame): DataFrame com os dados\n",
    "        target_var (str): Nome da variável resposta (ex: 'flag_doente')\n",
    "        feature_var (str): Nome da variável explicativa (ex: 'sex')\n",
    "\n",
    "    Retorno:\n",
    "        pd.DataFrame: Tabela bivariada com métricas\n",
    "    \"\"\"\n",
    "\n",
    "    # Criar a tabela agregada\n",
    "    bivariada = df.groupby(feature_var)[target_var].agg(['sum', 'count'])\n",
    "    bivariada.columns = ['Doentes', 'Total']\n",
    "    bivariada['Saudáveis'] = bivariada['Total'] - bivariada['Doentes']\n",
    "\n",
    "    # Quantidade média de doentes\n",
    "    bivariada['Média de Doentes'] = bivariada['Doentes'] / bivariada['Total']\n",
    "\n",
    "    # Cálculo das Odds\n",
    "    bivariada['Odds'] = bivariada['Doentes'] / bivariada['Saudáveis']\n",
    "\n",
    "    # Odds total (para referência)\n",
    "    odds_total = bivariada['Doentes'].sum() / bivariada['Saudáveis'].sum()\n",
    "\n",
    "    # Cálculo do Odds Ratio\n",
    "    bivariada['Odds Ratio'] = bivariada['Odds'] / odds_total\n",
    "\n",
    "    # Cálculo do Logito (Log(Odds))\n",
    "    bivariada['Logito'] = np.log(bivariada['Odds'])\n",
    "\n",
    "    # Cálculo do Weight of Evidence (WOE)\n",
    "    bivariada['WOE'] = np.log(bivariada['Odds Ratio'])\n",
    "\n",
    "    return bivariada"
   ]
  },
  {
   "cell_type": "code",
   "execution_count": 32,
   "metadata": {},
   "outputs": [
    {
     "name": "stdout",
     "output_type": "stream",
     "text": [
      "\n",
      "Bivariada para SEXO:\n",
      "      Doentes  Total  Saudáveis  Média de Doentes      Odds  Odds Ratio  \\\n",
      "sex                                                                      \n",
      "0.0       25     97         72          0.257732  0.347222    0.409672   \n",
      "1.0      114    206         92          0.553398  1.239130    1.461996   \n",
      "\n",
      "      Logito       WOE  \n",
      "sex                     \n",
      "0.0 -1.05779 -0.892398  \n",
      "1.0  0.21441  0.379802  \n",
      "\n",
      "Bivariada para TIPO DE DOR NO PEITO (cp):\n",
      "      Doentes  Total  Saudáveis  Média de Doentes      Odds  Odds Ratio  \\\n",
      "cp                                                                       \n",
      "1.0        7     23         16          0.304348  0.437500    0.516187   \n",
      "2.0        9     50         41          0.180000  0.219512    0.258993   \n",
      "3.0       18     86         68          0.209302  0.264706    0.312315   \n",
      "4.0      105    144         39          0.729167  2.692308    3.176536   \n",
      "\n",
      "       Logito       WOE  \n",
      "cp                       \n",
      "1.0 -0.826679 -0.661286  \n",
      "2.0 -1.516347 -1.350955  \n",
      "3.0 -1.329136 -1.163743  \n",
      "4.0  0.990399  1.155791  \n",
      "\n",
      "Bivariada para THALASSEMIA (thal):\n",
      "       Doentes  Total  Saudáveis  Média de Doentes      Odds  Odds Ratio  \\\n",
      "thal                                                                      \n",
      "3.0        37    166        129          0.222892  0.286822    0.338782   \n",
      "6.0        12     18          6          0.666667  2.000000    2.362319   \n",
      "7.0        89    117         28          0.760684  3.178571    3.754400   \n",
      "\n",
      "        Logito       WOE  \n",
      "thal                      \n",
      "3.0  -1.248894 -1.082398  \n",
      "6.0   0.693147  0.859644  \n",
      "7.0   1.156432  1.322928  \n"
     ]
    }
   ],
   "source": [
    "# ---- TESTAR A FUNÇÃO COM VARIÁVEIS QUALITATIVAS ----\n",
    "\n",
    "# Analisando a variável 'sex' (Sexo: 0 = Mulher, 1 = Homem)\n",
    "biv_sex = bivariada(df, 'flag_doente', 'sex')\n",
    "print(\"\\nBivariada para SEXO:\\n\", biv_sex)\n",
    "\n",
    "# Analisando a variável 'cp' (Tipo de dor no peito)\n",
    "biv_cp = bivariada(df, 'flag_doente', 'cp')\n",
    "print(\"\\nBivariada para TIPO DE DOR NO PEITO (cp):\\n\", biv_cp)\n",
    "\n",
    "# Analisando a variável 'thal' (Tipo de thalassemia)\n",
    "biv_thal = bivariada(df, 'flag_doente', 'thal')\n",
    "print(\"\\nBivariada para THALASSEMIA (thal):\\n\", biv_thal)"
   ]
  },
  {
   "cell_type": "markdown",
   "metadata": {},
   "source": [
    "### Após rodar o código, a variável que tem os maiores valores de Odds Ratio e WOE é a do tipo \"Dor n peito (cp)\"."
   ]
  },
  {
   "cell_type": "markdown",
   "metadata": {},
   "source": [
    "2. Monte uma função semelhante para categorizar variáveis quantitativas contínuas (com muitas categorias) como ```age```.  \n",
    "    Além dos mesmos parâmetros da função anterior, defina mais um parâmetro como número de categorias que você deseja quebrar. Defina um valor '*default*' de 5 grupos para este parâmetro.  "
   ]
  },
  {
   "cell_type": "code",
   "execution_count": 36,
   "metadata": {},
   "outputs": [
    {
     "name": "stdout",
     "output_type": "stream",
     "text": [
      "\n",
      "Bivariada para IDADE:\n",
      "                 Doentes  Total  Saudáveis  Média de Doentes      Odds  \\\n",
      "bin_age                                                                 \n",
      "(28.999, 45.0]       16     63         47          0.253968  0.340426   \n",
      "(45.0, 53.0]         22     64         42          0.343750  0.523810   \n",
      "(53.0, 58.0]         39     71         32          0.549296  1.218750   \n",
      "(58.0, 62.0]         32     45         13          0.711111  2.461538   \n",
      "(62.0, 77.0]         30     60         30          0.500000  1.000000   \n",
      "\n",
      "                Odds Ratio    Logito       WOE  \n",
      "bin_age                                         \n",
      "(28.999, 45.0]    0.401653 -1.077559 -0.912166  \n",
      "(45.0, 53.0]      0.618020 -0.646627 -0.481235  \n",
      "(53.0, 58.0]      1.437950  0.197826  0.363218  \n",
      "(58.0, 62.0]      2.904261  0.900787  1.066179  \n",
      "(62.0, 77.0]      1.179856  0.000000  0.165392  \n"
     ]
    },
    {
     "name": "stderr",
     "output_type": "stream",
     "text": [
      "C:\\Users\\djang\\AppData\\Local\\Temp\\ipykernel_9928\\3740403352.py:19: FutureWarning: The default of observed=False is deprecated and will be changed to True in a future version of pandas. Pass observed=False to retain current behavior or observed=True to adopt the future default and silence this warning.\n",
      "  bivariada = df.groupby('bin_' + feature_var)[target_var].agg(['sum', 'count'])\n"
     ]
    }
   ],
   "source": [
    "def bivariada_continua(df, target_var, feature_var, num_bins=5):\n",
    "    \"\"\"\n",
    "    Realiza uma análise bivariada para variáveis quantitativas contínuas, criando categorias por quantis.\n",
    "\n",
    "    Parâmetros:\n",
    "        df (pd.DataFrame): DataFrame com os dados.\n",
    "        target_var (str): Nome da variável resposta (ex: 'flag_doente').\n",
    "        feature_var (str): Nome da variável quantitativa (ex: 'age').\n",
    "        num_bins (int): Número de categorias a serem criadas (default = 5).\n",
    "\n",
    "    Retorno:\n",
    "        pd.DataFrame: Tabela bivariada com as métricas estatísticas.\n",
    "    \"\"\"\n",
    "\n",
    "    # Criar categorias da variável contínua usando quantis\n",
    "    df['bin_' + feature_var] = pd.qcut(df[feature_var], q=num_bins, duplicates='drop')\n",
    "\n",
    "    # Criar a tabela agregada\n",
    "    bivariada = df.groupby('bin_' + feature_var)[target_var].agg(['sum', 'count'])\n",
    "    bivariada.columns = ['Doentes', 'Total']\n",
    "    bivariada['Saudáveis'] = bivariada['Total'] - bivariada['Doentes']\n",
    "\n",
    "    # Quantidade média de doentes\n",
    "    bivariada['Média de Doentes'] = bivariada['Doentes'] / bivariada['Total']\n",
    "\n",
    "    # Cálculo das Odds\n",
    "    bivariada['Odds'] = bivariada['Doentes'] / bivariada['Saudáveis']\n",
    "\n",
    "    # Odds total (para referência)\n",
    "    odds_total = bivariada['Doentes'].sum() / bivariada['Saudáveis'].sum()\n",
    "\n",
    "    # Cálculo do Odds Ratio\n",
    "    bivariada['Odds Ratio'] = bivariada['Odds'] / odds_total\n",
    "\n",
    "    # Cálculo do Logito (Log(Odds))\n",
    "    bivariada['Logito'] = np.log(bivariada['Odds'])\n",
    "\n",
    "    # Cálculo do Weight of Evidence (WOE)\n",
    "    bivariada['WOE'] = np.log(bivariada['Odds Ratio'])\n",
    "\n",
    "    return bivariada\n",
    "\n",
    "# Testando a função com a variavel \"age\"\n",
    "\n",
    "biv_age = bivariada_continua(df, 'flag_doente', 'age', num_bins=5)\n",
    "print(\"\\nBivariada para IDADE:\\n\", biv_age)"
   ]
  },
  {
   "cell_type": "markdown",
   "metadata": {},
   "source": [
    "3. Construa um modelo de regressão logística com as variáveis qualitativas: ```sex + cp +  trestbps``` e com a variável quantitativa ```age```.\n",
    "\n",
    "**Interprete os parâmetros.**"
   ]
  },
  {
   "cell_type": "code",
   "execution_count": 56,
   "metadata": {},
   "outputs": [
    {
     "name": "stdout",
     "output_type": "stream",
     "text": [
      "Optimization terminated successfully.\n",
      "         Current function value: 0.529834\n",
      "         Iterations 6\n",
      "                           Logit Regression Results                           \n",
      "==============================================================================\n",
      "Dep. Variable:            flag_doente   No. Observations:                  303\n",
      "Model:                          Logit   Df Residuals:                      299\n",
      "Method:                           MLE   Df Model:                            3\n",
      "Date:                Fri, 28 Feb 2025   Pseudo R-squ.:                  0.2318\n",
      "Time:                        15:06:20   Log-Likelihood:                -160.54\n",
      "converged:                       True   LL-Null:                       -208.99\n",
      "Covariance Type:            nonrobust   LLR p-value:                 7.200e-21\n",
      "==============================================================================\n",
      "                 coef    std err          z      P>|z|      [0.025      0.975]\n",
      "------------------------------------------------------------------------------\n",
      "Intercept     -8.7087      1.355     -6.426      0.000     -11.365      -6.052\n",
      "cp             1.1540      0.167      6.907      0.000       0.827       1.482\n",
      "trestbps       0.0279      0.008      3.467      0.001       0.012       0.044\n",
      "sex            1.6110      0.315      5.119      0.000       0.994       2.228\n",
      "==============================================================================\n"
     ]
    }
   ],
   "source": [
    "# Ajustar o modelo de regressão logística\n",
    "reglog = smf.logit(\"flag_doente ~ cp + trestbps + sex\", data=df).fit()\n",
    "\n",
    "# Exibir os resultados\n",
    "print(reglog.summary())"
   ]
  },
  {
   "cell_type": "markdown",
   "metadata": {},
   "source": [
    "### Conclusões\n",
    "* O modelo mostra que cp, trestbps e sex influenciam o risco de doença cardíaca.\n",
    "* O sexo masculino (sex = 1) é um fator de risco importante.\n",
    "* A pressão arterial (trestbps) tem um efeito pequeno, mas significativo.\n",
    "* O tipo de dor no peito (cp) é o fator mais forte na predição."
   ]
  },
  {
   "cell_type": "markdown",
   "metadata": {},
   "source": [
    "4. Avalie o seu modelo quanto a **calibragem**:\n",
    "- Calcule a probabilidade de evento predita segundo o seu modelo\n",
    "- Categorize essa probabilidade em G=5 grupos\n",
    "- Calcule a probabilidade de evento predita média por grupo\n",
    "- Calcule a taxa de eventos (média da variável indicadora de eventos) por grupo\n",
    "- Compare graficamente o valor eperado versus observado para a taxa de maus por grupo"
   ]
  },
  {
   "cell_type": "code",
   "execution_count": 65,
   "metadata": {},
   "outputs": [
    {
     "data": {
      "image/png": "[encoded data removed]",
      "text/plain": [
       "<Figure size 800x500 with 1 Axes>"
      ]
     },
     "metadata": {},
     "output_type": "display_data"
    }
   ],
   "source": [
    "# Calcular probabilidade predita pelo modelo\n",
    "df['prob_predita'] = reglog.predict()\n",
    "\n",
    "# Categorizar a probabilidade em 5 grupos (quintis)\n",
    "df['grupo'] = pd.qcut(df['prob_predita'], q=5, labels=False) + 1  # Grupos de 1 a 5\n",
    "\n",
    "# Calcular estatísticas por grupo\n",
    "calibragem = df.groupby('grupo').agg(\n",
    "    prob_predita_media=('prob_predita', 'mean'),   # Probabilidade média prevista\n",
    "    taxa_real_eventos=('flag_doente', 'mean')      # Proporção real de doentes\n",
    ").reset_index()\n",
    "\n",
    "# Criar gráfico de calibração\n",
    "plt.figure(figsize=(8,5))\n",
    "plt.plot(calibragem['prob_predita_media'], calibragem['taxa_real_eventos'], 'o-', label=\"Observado\")\n",
    "plt.plot(calibragem['prob_predita_media'], calibragem['prob_predita_media'], 'r--', label=\"Esperado (linha 45°)\")\n",
    "plt.xlabel(\"Probabilidade Predita Média\")\n",
    "plt.ylabel(\"Taxa Real de Eventos\")\n",
    "plt.title(\"Calibração do Modelo Logístico\")\n",
    "plt.legend()\n",
    "plt.grid()\n",
    "plt.show()"
   ]
  },
  {
   "cell_type": "markdown",
   "metadata": {},
   "source": [
    "### Conciderando que a linha azul \"observado\" não está muito longe da vermelha \"esperado\", esse modelo predita realmente reflete as chances reais da população."
   ]
  },
  {
   "cell_type": "markdown",
   "metadata": {},
   "source": [
    "5. Avalie o seu modelo quanto a discriminação calculando acurácia, GINI e KS."
   ]
  },
  {
   "cell_type": "code",
   "execution_count": 74,
   "metadata": {},
   "outputs": [
    {
     "name": "stdout",
     "output_type": "stream",
     "text": [
      "Acurácia: 0.7723\n",
      "AUC: 0.8138\n",
      "GINI: 0.6276\n",
      "KS: 0.5409\n"
     ]
    }
   ],
   "source": [
    "# Criar um limiar de decisão (0.5 por padrão)\n",
    "df['predicao_binaria'] = (df['prob_predita'] >= 0.5).astype(int)\n",
    "\n",
    "# Calcular Acurácia\n",
    "acuracia = accuracy_score(df['flag_doente'], df['predicao_binaria'])\n",
    "\n",
    "# Calcular AUC (Área sob a curva ROC)\n",
    "auc = roc_auc_score(df['flag_doente'], df['prob_predita'])\n",
    "\n",
    "# Calcular GINI (2 * AUC - 1)\n",
    "gini = 2 * auc - 1\n",
    "\n",
    "# Calcular KS (Kolmogorov-Smirnov)\n",
    "fpr, tpr, thresholds = roc_curve(df['flag_doente'], df['prob_predita'])\n",
    "ks = max(tpr - fpr)\n",
    "\n",
    "# Exibir os resultados\n",
    "print(f\"Acurácia: {acuracia:.4f}\")\n",
    "print(f\"AUC: {auc:.4f}\")\n",
    "print(f\"GINI: {gini:.4f}\")\n",
    "print(f\"KS: {ks:.4f}\")"
   ]
  },
  {
   "cell_type": "markdown",
   "metadata": {},
   "source": [
    "6. tente melhorar o modelo obtido, por exemplo inserindo ou removendo variáveis.  \n",
    "    Avalie as características do seu modelo (calibragem e acurácia)."
   ]
  },
  {
   "cell_type": "code",
   "execution_count": 76,
   "metadata": {},
   "outputs": [
    {
     "name": "stdout",
     "output_type": "stream",
     "text": [
      "Optimization terminated successfully.\n",
      "         Current function value: 0.427674\n",
      "         Iterations 7\n",
      "                           Logit Regression Results                           \n",
      "==============================================================================\n",
      "Dep. Variable:            flag_doente   No. Observations:                  303\n",
      "Model:                          Logit   Df Residuals:                      295\n",
      "Method:                           MLE   Df Model:                            7\n",
      "Date:                Fri, 28 Feb 2025   Pseudo R-squ.:                  0.3799\n",
      "Time:                        15:19:41   Log-Likelihood:                -129.59\n",
      "converged:                       True   LL-Null:                       -208.99\n",
      "Covariance Type:            nonrobust   LLR p-value:                 5.706e-31\n",
      "==============================================================================\n",
      "                 coef    std err          z      P>|z|      [0.025      0.975]\n",
      "------------------------------------------------------------------------------\n",
      "Intercept     -5.6103      2.285     -2.456      0.014     -10.088      -1.133\n",
      "cp             0.8016      0.176      4.563      0.000       0.457       1.146\n",
      "trestbps       0.0193      0.010      2.027      0.043       0.001       0.038\n",
      "sex            1.7164      0.369      4.651      0.000       0.993       2.440\n",
      "age            0.0293      0.020      1.469      0.142      -0.010       0.068\n",
      "thalach       -0.0227      0.009     -2.644      0.008      -0.039      -0.006\n",
      "exang          1.0263      0.355      2.891      0.004       0.330       1.722\n",
      "oldpeak        0.6106      0.157      3.888      0.000       0.303       0.918\n",
      "==============================================================================\n",
      "Acurácia: 0.8119\n",
      "AUC: 0.8830\n",
      "GINI: 0.7659\n",
      "KS: 0.6234\n"
     ]
    },
    {
     "data": {
      "image/png": "[encoded data removed]",
      "text/plain": [
       "<Figure size 800x500 with 1 Axes>"
      ]
     },
     "metadata": {},
     "output_type": "display_data"
    }
   ],
   "source": [
    "# Testar um novo modelo adicionando mais variáveis\n",
    "formula = \"flag_doente ~ cp + trestbps + sex + age + thalach + exang + oldpeak\"\n",
    "reglog = smf.logit(formula, data=df).fit()\n",
    "\n",
    "# Calcular probabilidade predita pelo novo modelo\n",
    "df['prob_predita'] = reglog.predict()\n",
    "\n",
    "# Criar um limiar de decisão (0.5 por padrão)\n",
    "df['predicao_binaria'] = (df['prob_predita'] >= 0.5).astype(int)\n",
    "\n",
    "# Calcular Acurácia\n",
    "acuracia = accuracy_score(df['flag_doente'], df['predicao_binaria'])\n",
    "\n",
    "# Calcular AUC (Área sob a curva ROC)\n",
    "auc = roc_auc_score(df['flag_doente'], df['prob_predita'])\n",
    "\n",
    "# Calcular GINI (2 * AUC - 1)\n",
    "gini = 2 * auc - 1\n",
    "\n",
    "# Calcular KS (Kolmogorov-Smirnov)\n",
    "fpr, tpr, thresholds = roc_curve(df['flag_doente'], df['prob_predita'])\n",
    "ks = max(tpr - fpr)\n",
    "\n",
    "# Exibir os resultados do novo modelo\n",
    "print(reglog.summary())\n",
    "print(f\"Acurácia: {acuracia:.4f}\")\n",
    "print(f\"AUC: {auc:.4f}\")\n",
    "print(f\"GINI: {gini:.4f}\")\n",
    "print(f\"KS: {ks:.4f}\")\n",
    "\n",
    "# Calibração - Criar 5 grupos por probabilidade predita\n",
    "df['grupo'] = pd.qcut(df['prob_predita'], q=5, labels=False) + 1\n",
    "\n",
    "# Calcular estatísticas por grupo\n",
    "calibragem = df.groupby('grupo').agg(\n",
    "    prob_predita_media=('prob_predita', 'mean'),\n",
    "    taxa_real_eventos=('flag_doente', 'mean')\n",
    ").reset_index()\n",
    "\n",
    "# Criar gráfico de calibração\n",
    "plt.figure(figsize=(8,5))\n",
    "plt.plot(calibragem['prob_predita_media'], calibragem['taxa_real_eventos'], 'o-', label=\"Observado\")\n",
    "plt.plot(calibragem['prob_predita_media'], calibragem['prob_predita_media'], 'r--', label=\"Esperado (linha 45°)\")\n",
    "plt.xlabel(\"Probabilidade Predita Média\")\n",
    "plt.ylabel(\"Taxa Real de Eventos\")\n",
    "plt.title(\"Calibração do Modelo Melhorado\")\n",
    "plt.legend()\n",
    "plt.grid()\n",
    "plt.show()"
   ]
  },
  {
   "cell_type": "code",
   "execution_count": null,
   "metadata": {},
   "outputs": [],
   "source": []
  }
 ],
 "metadata": {
  "kernelspec": {
   "display_name": "Python [conda env:base] *",
   "language": "python",
   "name": "conda-base-py"
  },
  "language_info": {
   "codemirror_mode": {
    "name": "ipython",
    "version": 3
   },
   "file_extension": ".py",
   "mimetype": "text/x-python",
   "name": "python",
   "nbconvert_exporter": "python",
   "pygments_lexer": "ipython3",
   "version": "3.12.3"
  }
 },
 "nbformat": 4,
 "nbformat_minor": 4
}
