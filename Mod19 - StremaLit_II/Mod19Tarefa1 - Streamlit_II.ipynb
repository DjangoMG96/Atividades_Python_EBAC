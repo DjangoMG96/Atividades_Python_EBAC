{
 "cells": [
  {
   "cell_type": "markdown",
   "id": "474a1e7c-4014-43e4-a293-5def3973b91e",
   "metadata": {},
   "source": [
    "# Analise Brasileirão 2023"
   ]
  },
  {
   "cell_type": "markdown",
   "id": "5a5d25cd-3ea6-4716-b5ac-af31f1f765f4",
   "metadata": {},
   "source": [
    "## Obejetivo"
   ]
  },
  {
   "cell_type": "markdown",
   "id": "e8a46076-9495-4bd8-8518-e88f1986b38f",
   "metadata": {},
   "source": [
    "Transformar os dados em informações relevantes para apostas em 2025"
   ]
  },
  {
   "cell_type": "markdown",
   "id": "3e20cde4-8d8d-4512-bf1c-e16568d040d4",
   "metadata": {},
   "source": [
    "## Indice\n",
    "- **ID**: ID da partida  \n",
    "- **Rodada**: Rodada que aconteceu a partida  \n",
    "- **Data**: Data que ocorreu a partida  \n",
    "- **Horário**: Horário que ocorreu a partida  \n",
    "- **Dia**: Dia da semana que ocorreu a partida  \n",
    "- **Mandante**: Clube mandante  \n",
    "- **Visitante**: Clube visitante  \n",
    "- **formacao_mandante**: Formação do mandante  \n",
    "- **formacao_visitante**: Formação do visitante  \n",
    "- **tecnico_mandante**: Técnico do mandante  \n",
    "- **tecnico_visitante**: Técnico do visitante  \n",
    "- **Vencedor**: Clube vencedor da partida. Quando tiver \"-\", é um empate  \n",
    "- **Arena**: Arena que ocorreu a partida  \n",
    "- **Mandante Placar**: Gols que o clube mandante fez na partida  \n",
    "- **Visitante Placar**: Gols que o clube visitante fez na partida  \n",
    "- **Estado Mandante**: Estado do clube mandante  \n",
    "- **Estado Visitante**: Estado do clube visitante  \n",
    "- **Estado Vencedor**: Estado do clube vencedor. Quando tiver \"-\", é um empate  "
   ]
  },
  {
   "cell_type": "code",
   "execution_count": 5,
   "id": "e10ab9a1-b004-4d35-8583-93d12858b6fe",
   "metadata": {},
   "outputs": [],
   "source": [
    "import pandas as pd \n",
    "import numpy as np\n",
    "import matplotlib.pyplot as plt\n",
    "import seaborn as sns\n",
    "import streamlit as st\n",
    "\n",
    "from ydata_profiling import ProfileReport\n",
    "from datetime import datetime\n",
    "\n",
    "\n",
    "%matplotlib inline"
   ]
  },
  {
   "cell_type": "code",
   "execution_count": 6,
   "id": "74fc9a6e-2b37-4c45-bc07-d47183614ad2",
   "metadata": {},
   "outputs": [
    {
     "data": {
      "application/vnd.jupyter.widget-view+json": {
       "model_id": "c5d2dc32cb41493bb13288ab51cea0cb",
       "version_major": 2,
       "version_minor": 0
      },
      "text/plain": [
       "Summarize dataset:   0%|          | 0/5 [00:00<?, ?it/s]"
      ]
     },
     "metadata": {},
     "output_type": "display_data"
    },
    {
     "data": {
      "application/vnd.jupyter.widget-view+json": {
       "model_id": "00ce5d326e6d4314bacbe295205dc553",
       "version_major": 2,
       "version_minor": 0
      },
      "text/plain": [
       "Generate report structure:   0%|          | 0/1 [00:00<?, ?it/s]"
      ]
     },
     "metadata": {},
     "output_type": "display_data"
    },
    {
     "data": {
      "application/vnd.jupyter.widget-view+json": {
       "model_id": "272209c1d5f9426bb482511cd38488b8",
       "version_major": 2,
       "version_minor": 0
      },
      "text/plain": [
       "Render HTML:   0%|          | 0/1 [00:00<?, ?it/s]"
      ]
     },
     "metadata": {},
     "output_type": "display_data"
    },
    {
     "data": {
      "application/vnd.jupyter.widget-view+json": {
       "model_id": "b46d4ee9a068456ebfc9d9e5371e6aaf",
       "version_major": 2,
       "version_minor": 0
      },
      "text/plain": [
       "Export report to file:   0%|          | 0/1 [00:00<?, ?it/s]"
      ]
     },
     "metadata": {},
     "output_type": "display_data"
    }
   ],
   "source": [
    "# lendo o arquivo CSV\n",
    "df = pd.read_csv('campeonato-brasileiro-full.csv')\n",
    "\n",
    "# criando um perfil para o profile no df inteiro\n",
    "prof = ProfileReport(df)\n",
    "\n",
    "# criando uma pasta nova para savar o arquipo em HTML e ver na web\n",
    "prof.to_file('analise.html')"
   ]
  },
  {
   "cell_type": "code",
   "execution_count": 7,
   "id": "ec7eebe0-b02e-4b5c-9b53-fb021193df45",
   "metadata": {},
   "outputs": [
    {
     "data": {
      "text/html": [
       "<div>\n",
       "<style scoped>\n",
       "    .dataframe tbody tr th:only-of-type {\n",
       "        vertical-align: middle;\n",
       "    }\n",
       "\n",
       "    .dataframe tbody tr th {\n",
       "        vertical-align: top;\n",
       "    }\n",
       "\n",
       "    .dataframe thead th {\n",
       "        text-align: right;\n",
       "    }\n",
       "</style>\n",
       "<table border=\"1\" class=\"dataframe\">\n",
       "  <thead>\n",
       "    <tr style=\"text-align: right;\">\n",
       "      <th></th>\n",
       "      <th>ID</th>\n",
       "      <th>rodata</th>\n",
       "      <th>data</th>\n",
       "      <th>hora</th>\n",
       "      <th>mandante</th>\n",
       "      <th>visitante</th>\n",
       "      <th>formacao_mandante</th>\n",
       "      <th>formacao_visitante</th>\n",
       "      <th>tecnico_mandante</th>\n",
       "      <th>tecnico_visitante</th>\n",
       "      <th>vencedor</th>\n",
       "      <th>arena</th>\n",
       "      <th>mandante_Placar</th>\n",
       "      <th>visitante_Placar</th>\n",
       "      <th>mandante_Estado</th>\n",
       "      <th>visitante_Estado</th>\n",
       "    </tr>\n",
       "  </thead>\n",
       "  <tbody>\n",
       "    <tr>\n",
       "      <th>0</th>\n",
       "      <td>1</td>\n",
       "      <td>1</td>\n",
       "      <td>29/03/2003</td>\n",
       "      <td>16:00</td>\n",
       "      <td>Guarani</td>\n",
       "      <td>Vasco</td>\n",
       "      <td>NaN</td>\n",
       "      <td>NaN</td>\n",
       "      <td>NaN</td>\n",
       "      <td>NaN</td>\n",
       "      <td>Guarani</td>\n",
       "      <td>Brinco de Ouro</td>\n",
       "      <td>4</td>\n",
       "      <td>2</td>\n",
       "      <td>SP</td>\n",
       "      <td>RJ</td>\n",
       "    </tr>\n",
       "    <tr>\n",
       "      <th>1</th>\n",
       "      <td>2</td>\n",
       "      <td>1</td>\n",
       "      <td>29/03/2003</td>\n",
       "      <td>16:00</td>\n",
       "      <td>Athletico-PR</td>\n",
       "      <td>Gremio</td>\n",
       "      <td>NaN</td>\n",
       "      <td>NaN</td>\n",
       "      <td>NaN</td>\n",
       "      <td>NaN</td>\n",
       "      <td>Athletico-PR</td>\n",
       "      <td>Arena da Baixada</td>\n",
       "      <td>2</td>\n",
       "      <td>0</td>\n",
       "      <td>PR</td>\n",
       "      <td>RS</td>\n",
       "    </tr>\n",
       "    <tr>\n",
       "      <th>2</th>\n",
       "      <td>3</td>\n",
       "      <td>1</td>\n",
       "      <td>30/03/2003</td>\n",
       "      <td>16:00</td>\n",
       "      <td>Flamengo</td>\n",
       "      <td>Coritiba</td>\n",
       "      <td>NaN</td>\n",
       "      <td>NaN</td>\n",
       "      <td>NaN</td>\n",
       "      <td>NaN</td>\n",
       "      <td>-</td>\n",
       "      <td>Maracanã</td>\n",
       "      <td>1</td>\n",
       "      <td>1</td>\n",
       "      <td>RJ</td>\n",
       "      <td>PR</td>\n",
       "    </tr>\n",
       "    <tr>\n",
       "      <th>3</th>\n",
       "      <td>4</td>\n",
       "      <td>1</td>\n",
       "      <td>30/03/2003</td>\n",
       "      <td>16:00</td>\n",
       "      <td>Goias</td>\n",
       "      <td>Paysandu</td>\n",
       "      <td>NaN</td>\n",
       "      <td>NaN</td>\n",
       "      <td>NaN</td>\n",
       "      <td>NaN</td>\n",
       "      <td>-</td>\n",
       "      <td>Serra Dourada</td>\n",
       "      <td>2</td>\n",
       "      <td>2</td>\n",
       "      <td>GO</td>\n",
       "      <td>PA</td>\n",
       "    </tr>\n",
       "    <tr>\n",
       "      <th>4</th>\n",
       "      <td>5</td>\n",
       "      <td>1</td>\n",
       "      <td>30/03/2003</td>\n",
       "      <td>16:00</td>\n",
       "      <td>Internacional</td>\n",
       "      <td>Ponte Preta</td>\n",
       "      <td>NaN</td>\n",
       "      <td>NaN</td>\n",
       "      <td>NaN</td>\n",
       "      <td>NaN</td>\n",
       "      <td>-</td>\n",
       "      <td>Beira Rio</td>\n",
       "      <td>1</td>\n",
       "      <td>1</td>\n",
       "      <td>RS</td>\n",
       "      <td>SP</td>\n",
       "    </tr>\n",
       "  </tbody>\n",
       "</table>\n",
       "</div>"
      ],
      "text/plain": [
       "   ID  rodata        data   hora       mandante    visitante  \\\n",
       "0   1       1  29/03/2003  16:00        Guarani        Vasco   \n",
       "1   2       1  29/03/2003  16:00   Athletico-PR       Gremio   \n",
       "2   3       1  30/03/2003  16:00       Flamengo     Coritiba   \n",
       "3   4       1  30/03/2003  16:00          Goias     Paysandu   \n",
       "4   5       1  30/03/2003  16:00  Internacional  Ponte Preta   \n",
       "\n",
       "  formacao_mandante formacao_visitante tecnico_mandante tecnico_visitante  \\\n",
       "0               NaN                NaN              NaN               NaN   \n",
       "1               NaN                NaN              NaN               NaN   \n",
       "2               NaN                NaN              NaN               NaN   \n",
       "3               NaN                NaN              NaN               NaN   \n",
       "4               NaN                NaN              NaN               NaN   \n",
       "\n",
       "       vencedor              arena  mandante_Placar  visitante_Placar  \\\n",
       "0       Guarani     Brinco de Ouro                4                 2   \n",
       "1  Athletico-PR   Arena da Baixada                2                 0   \n",
       "2             -           Maracanã                1                 1   \n",
       "3             -      Serra Dourada                2                 2   \n",
       "4             -          Beira Rio                1                 1   \n",
       "\n",
       "  mandante_Estado visitante_Estado  \n",
       "0              SP               RJ  \n",
       "1              PR               RS  \n",
       "2              RJ               PR  \n",
       "3              GO               PA  \n",
       "4              RS               SP  "
      ]
     },
     "execution_count": 7,
     "metadata": {},
     "output_type": "execute_result"
    }
   ],
   "source": [
    "df.head(5)"
   ]
  },
  {
   "cell_type": "code",
   "execution_count": 8,
   "id": "e268943c-2c31-46b0-ab15-94561ab97f4a",
   "metadata": {},
   "outputs": [
    {
     "data": {
      "text/html": [
       "<div>\n",
       "<style scoped>\n",
       "    .dataframe tbody tr th:only-of-type {\n",
       "        vertical-align: middle;\n",
       "    }\n",
       "\n",
       "    .dataframe tbody tr th {\n",
       "        vertical-align: top;\n",
       "    }\n",
       "\n",
       "    .dataframe thead th {\n",
       "        text-align: right;\n",
       "    }\n",
       "</style>\n",
       "<table border=\"1\" class=\"dataframe\">\n",
       "  <thead>\n",
       "    <tr style=\"text-align: right;\">\n",
       "      <th></th>\n",
       "      <th>rodata</th>\n",
       "      <th>data</th>\n",
       "      <th>hora</th>\n",
       "      <th>mandante</th>\n",
       "      <th>visitante</th>\n",
       "      <th>formacao_mandante</th>\n",
       "      <th>formacao_visitante</th>\n",
       "      <th>tecnico_mandante</th>\n",
       "      <th>tecnico_visitante</th>\n",
       "      <th>vencedor</th>\n",
       "      <th>arena</th>\n",
       "      <th>mandante_Placar</th>\n",
       "      <th>visitante_Placar</th>\n",
       "      <th>mandante_Estado</th>\n",
       "      <th>visitante_Estado</th>\n",
       "    </tr>\n",
       "  </thead>\n",
       "  <tbody>\n",
       "    <tr>\n",
       "      <th>8025</th>\n",
       "      <td>1</td>\n",
       "      <td>2023-04-15</td>\n",
       "      <td>16:01</td>\n",
       "      <td>Palmeiras</td>\n",
       "      <td>Cuiaba</td>\n",
       "      <td>4-2-3-1</td>\n",
       "      <td>4-2-3-1</td>\n",
       "      <td>A. Moreira Ferreira</td>\n",
       "      <td>I. Abreu Vieira</td>\n",
       "      <td>Palmeiras</td>\n",
       "      <td>Allianz Parque</td>\n",
       "      <td>2</td>\n",
       "      <td>1</td>\n",
       "      <td>SP</td>\n",
       "      <td>MT</td>\n",
       "    </tr>\n",
       "    <tr>\n",
       "      <th>8026</th>\n",
       "      <td>1</td>\n",
       "      <td>2023-04-15</td>\n",
       "      <td>16:02</td>\n",
       "      <td>America-MG</td>\n",
       "      <td>Fluminense</td>\n",
       "      <td>4-2-3-1</td>\n",
       "      <td>4-2-2-2</td>\n",
       "      <td>V. Carmo Mancini</td>\n",
       "      <td>F. Diniz Silva</td>\n",
       "      <td>Fluminense</td>\n",
       "      <td>Estádio Raimundo Sampaio</td>\n",
       "      <td>0</td>\n",
       "      <td>3</td>\n",
       "      <td>MG</td>\n",
       "      <td>RJ</td>\n",
       "    </tr>\n",
       "    <tr>\n",
       "      <th>8027</th>\n",
       "      <td>1</td>\n",
       "      <td>2023-04-15</td>\n",
       "      <td>18:31</td>\n",
       "      <td>Bragantino</td>\n",
       "      <td>Bahia</td>\n",
       "      <td>4-2-3-1</td>\n",
       "      <td>3-4-3</td>\n",
       "      <td>P. Faria Caixinha</td>\n",
       "      <td>R. Alves Paiva</td>\n",
       "      <td>Bragantino</td>\n",
       "      <td>Nabizão</td>\n",
       "      <td>2</td>\n",
       "      <td>1</td>\n",
       "      <td>SP</td>\n",
       "      <td>BA</td>\n",
       "    </tr>\n",
       "    <tr>\n",
       "      <th>8028</th>\n",
       "      <td>1</td>\n",
       "      <td>2023-04-15</td>\n",
       "      <td>18:31</td>\n",
       "      <td>Athletico-PR</td>\n",
       "      <td>Goias</td>\n",
       "      <td>4-2-3-1</td>\n",
       "      <td>4-2-3-1</td>\n",
       "      <td>P. Turra</td>\n",
       "      <td>E. Rodrigues de Ávila</td>\n",
       "      <td>Athletico-PR</td>\n",
       "      <td>Ligga Arena</td>\n",
       "      <td>2</td>\n",
       "      <td>0</td>\n",
       "      <td>PR</td>\n",
       "      <td>GO</td>\n",
       "    </tr>\n",
       "    <tr>\n",
       "      <th>8029</th>\n",
       "      <td>1</td>\n",
       "      <td>2023-04-15</td>\n",
       "      <td>18:32</td>\n",
       "      <td>Fortaleza</td>\n",
       "      <td>Internacional</td>\n",
       "      <td>4-2-2-2</td>\n",
       "      <td>4-2-3-1</td>\n",
       "      <td>J. Vojvoda</td>\n",
       "      <td>L. Venker de Menezes</td>\n",
       "      <td>-</td>\n",
       "      <td>Arena Castelão</td>\n",
       "      <td>1</td>\n",
       "      <td>1</td>\n",
       "      <td>CE</td>\n",
       "      <td>RS</td>\n",
       "    </tr>\n",
       "  </tbody>\n",
       "</table>\n",
       "</div>"
      ],
      "text/plain": [
       "      rodata       data   hora      mandante      visitante formacao_mandante  \\\n",
       "8025       1 2023-04-15  16:01     Palmeiras         Cuiaba           4-2-3-1   \n",
       "8026       1 2023-04-15  16:02    America-MG     Fluminense           4-2-3-1   \n",
       "8027       1 2023-04-15  18:31    Bragantino          Bahia           4-2-3-1   \n",
       "8028       1 2023-04-15  18:31  Athletico-PR          Goias           4-2-3-1   \n",
       "8029       1 2023-04-15  18:32     Fortaleza  Internacional           4-2-2-2   \n",
       "\n",
       "     formacao_visitante     tecnico_mandante      tecnico_visitante  \\\n",
       "8025            4-2-3-1  A. Moreira Ferreira        I. Abreu Vieira   \n",
       "8026            4-2-2-2     V. Carmo Mancini         F. Diniz Silva   \n",
       "8027              3-4-3    P. Faria Caixinha         R. Alves Paiva   \n",
       "8028            4-2-3-1             P. Turra  E. Rodrigues de Ávila   \n",
       "8029            4-2-3-1           J. Vojvoda   L. Venker de Menezes   \n",
       "\n",
       "          vencedor                     arena  mandante_Placar  \\\n",
       "8025     Palmeiras            Allianz Parque                2   \n",
       "8026    Fluminense  Estádio Raimundo Sampaio                0   \n",
       "8027    Bragantino                   Nabizão                2   \n",
       "8028  Athletico-PR               Ligga Arena                2   \n",
       "8029             -            Arena Castelão                1   \n",
       "\n",
       "      visitante_Placar mandante_Estado visitante_Estado  \n",
       "8025                 1              SP               MT  \n",
       "8026                 3              MG               RJ  \n",
       "8027                 1              SP               BA  \n",
       "8028                 0              PR               GO  \n",
       "8029                 1              CE               RS  "
      ]
     },
     "execution_count": 8,
     "metadata": {},
     "output_type": "execute_result"
    }
   ],
   "source": [
    "# filtrando o DF para 2023\n",
    "df['data'] = pd.to_datetime(df['data'], format='%d/%m/%Y')\n",
    "br_23 = df[df['data'].dt.year == 2023]\n",
    "\n",
    "# deletando id\n",
    "br_23 = br_23.drop(columns = ['ID'])\n",
    "\n",
    "br_23.head(5)"
   ]
  },
  {
   "cell_type": "code",
   "execution_count": 9,
   "id": "f4a7e3e6-a333-4b2f-8074-bf1ffb7b345c",
   "metadata": {},
   "outputs": [],
   "source": [
    "# removendo empates\n",
    "br_23 = br_23.drop(br_23[br_23['vencedor'] == '-'].index)"
   ]
  },
  {
   "cell_type": "markdown",
   "id": "0d6fbcd6-f982-40f2-afa4-b3699b020044",
   "metadata": {},
   "source": [
    "## Exploração"
   ]
  },
  {
   "cell_type": "code",
   "execution_count": 11,
   "id": "a4d603e8-a01b-47de-9390-f347376e79b5",
   "metadata": {},
   "outputs": [
    {
     "name": "stdout",
     "output_type": "stream",
     "text": [
      "11:00\n",
      "22:00\n"
     ]
    }
   ],
   "source": [
    "print(br_23['hora'].min())\n",
    "print(br_23['hora'].max())"
   ]
  },
  {
   "cell_type": "code",
   "execution_count": 12,
   "id": "ecfa89cb-2a2a-491c-ada7-2023bd6cf5ac",
   "metadata": {},
   "outputs": [
    {
     "data": {
      "text/plain": [
       "rodata                0\n",
       "data                  0\n",
       "hora                  0\n",
       "mandante              0\n",
       "visitante             0\n",
       "formacao_mandante     0\n",
       "formacao_visitante    0\n",
       "tecnico_mandante      0\n",
       "tecnico_visitante     0\n",
       "vencedor              0\n",
       "arena                 0\n",
       "mandante_Placar       0\n",
       "visitante_Placar      0\n",
       "mandante_Estado       0\n",
       "visitante_Estado      0\n",
       "dtype: int64"
      ]
     },
     "execution_count": 12,
     "metadata": {},
     "output_type": "execute_result"
    }
   ],
   "source": [
    "# verificando NA\n",
    "br_23.isna().sum()"
   ]
  },
  {
   "cell_type": "code",
   "execution_count": 13,
   "id": "71e152a0-10f8-459c-bb30-575ce831f129",
   "metadata": {},
   "outputs": [
    {
     "name": "stdout",
     "output_type": "stream",
     "text": [
      "          hora categoria_hora\n",
      "8025  16:01:00          Tarde\n",
      "8026  16:02:00          Tarde\n",
      "8027  18:31:00          Tarde\n",
      "8028  18:31:00          Tarde\n",
      "8030  18:33:00          Tarde\n",
      "...        ...            ...\n",
      "8400  21:32:00          Noite\n",
      "8401  21:32:00          Noite\n",
      "8402  21:32:00          Noite\n",
      "8403  21:32:00          Noite\n",
      "8404  21:32:00          Noite\n",
      "\n",
      "[282 rows x 2 columns]\n"
     ]
    }
   ],
   "source": [
    "# categorizando data\n",
    "br_23['hora'] = pd.to_datetime(br_23['hora'], format='%H:%M').dt.time\n",
    "\n",
    "# Definir os limites de horário\n",
    "limites = [\n",
    "    ('09:00', '13:00', 'Manhã'),\n",
    "    ('13:01', '20:41', 'Tarde'),\n",
    "    ('20:42', '22:35', 'Noite'),\n",
    "]\n",
    "\n",
    "# Criar lista de condições e valores\n",
    "condicoes = []\n",
    "valores = []\n",
    "\n",
    "# Usar datetime.strptime para comparar corretamente\n",
    "for inicio, fim, categoria in limites:\n",
    "    inicio_time = datetime.strptime(inicio, '%H:%M').time()\n",
    "    fim_time = datetime.strptime(fim, '%H:%M').time()\n",
    "    condicoes.append((br_23['hora'] >= inicio_time) & (br_23['hora'] <= fim_time))\n",
    "    valores.append(categoria)\n",
    "\n",
    "# Aplicar categorização\n",
    "br_23['categoria_hora'] = np.select(condicoes, valores, default=-1)  # Default -1 para fora dos intervalos\n",
    "\n",
    "# Exibir resultado\n",
    "print(br_23[['hora', 'categoria_hora']])"
   ]
  },
  {
   "cell_type": "code",
   "execution_count": 14,
   "id": "015599e1-eb55-412c-bb3e-1cace2e9cb0a",
   "metadata": {},
   "outputs": [
    {
     "data": {
      "image/png": "[encoded data removed]",
      "text/plain": [
       "<Figure size 800x500 with 1 Axes>"
      ]
     },
     "metadata": {},
     "output_type": "display_data"
    }
   ],
   "source": [
    "# Contar a frequência de cada categoria\n",
    "categoria_counts = br_23['categoria_hora'].value_counts().sort_index()\n",
    "\n",
    "# Criar o gráfico de barras\n",
    "plt.figure(figsize=(8,5))\n",
    "sns.barplot(x=categoria_counts.index, y=categoria_counts.values, hue=categoria_counts.index, palette='Blues', legend=False)\n",
    "\n",
    "# Adicionar rótulos\n",
    "plt.xlabel('Categoria Hora')\n",
    "plt.ylabel('Frequência')\n",
    "plt.title('Distribuição de Categoria Hora')\n",
    "\n",
    "# Exibir o gráfico (para Jupyter, use %matplotlib inline antes)\n",
    "plt.show()"
   ]
  },
  {
   "cell_type": "code",
   "execution_count": 15,
   "id": "3e875c1c-5a2c-4e67-949b-a4234d878ff5",
   "metadata": {},
   "outputs": [
    {
     "name": "stdout",
     "output_type": "stream",
     "text": [
      "categoria_hora\n",
      "Tarde    76.950355\n",
      "Noite    20.212766\n",
      "Manhã     2.836879\n",
      "Name: count, dtype: float64\n"
     ]
    }
   ],
   "source": [
    "# Contar as ocorrências de cada categoria\n",
    "categoria_counts = br_23['categoria_hora'].value_counts()\n",
    "\n",
    "# Calcular a porcentagem\n",
    "categoria_percentual = (categoria_counts / categoria_counts.sum()) * 100\n",
    "\n",
    "# Exibir os resultados\n",
    "print(categoria_percentual)"
   ]
  },
  {
   "cell_type": "markdown",
   "id": "7ca74b35-1171-4187-a539-b3a456f2e79c",
   "metadata": {},
   "source": [
    "### Cerca de 80% dos jogos foram realizados no horario da tarde."
   ]
  },
  {
   "cell_type": "markdown",
   "id": "882c3ea9-3fb1-48ca-b73b-c1a32404d2ed",
   "metadata": {},
   "source": [
    "### Maior vencedor da tarde é o Gremio, seguido de Botafogo, Flamengo e Palmeiras."
   ]
  },
  {
   "cell_type": "code",
   "execution_count": 18,
   "id": "aa1da3af-a806-4d34-91b0-dc77aa65a426",
   "metadata": {},
   "outputs": [
    {
     "data": {
      "text/plain": [
       "vencedor\n",
       "Gremio          16\n",
       "Botafogo-RJ     15\n",
       "Flamengo        15\n",
       "Palmeiras       14\n",
       "Athletico-PR    13\n",
       "Name: count, dtype: int64"
      ]
     },
     "execution_count": 18,
     "metadata": {},
     "output_type": "execute_result"
    }
   ],
   "source": [
    "# verificando maiores vencedores na faixa de jogos de tarde\n",
    "br_ano_filtrado = br_23[br_23['categoria_hora']=='Tarde']\n",
    "br_ano_filtrado['vencedor'].value_counts().head(5)"
   ]
  },
  {
   "cell_type": "markdown",
   "id": "a807ed06-4f0a-4469-9946-b0b8a7f875f7",
   "metadata": {},
   "source": [
    "### Maior vencedor da noite é o Atletico-MG seguido de Palmeiras, Fluminence e Vasco."
   ]
  },
  {
   "cell_type": "code",
   "execution_count": 20,
   "id": "e3b8c96d-754d-4e5d-9298-12eb63ecec90",
   "metadata": {},
   "outputs": [
    {
     "data": {
      "text/plain": [
       "vencedor\n",
       "Atletico-MG    8\n",
       "Palmeiras      6\n",
       "Fluminense     5\n",
       "Vasco          4\n",
       "Bahia          4\n",
       "Name: count, dtype: int64"
      ]
     },
     "execution_count": 20,
     "metadata": {},
     "output_type": "execute_result"
    }
   ],
   "source": [
    "# verificando maiores vencedores na faixa de jogos de noite\n",
    "br_filtrado2 = br_23[br_23['categoria_hora']=='Noite']\n",
    "br_filtrado2['vencedor'].value_counts().head(5)"
   ]
  },
  {
   "cell_type": "markdown",
   "id": "c6fb628c-6016-4f22-bec9-86c26a947ee9",
   "metadata": {},
   "source": [
    "### Maior vencedor da manhã é o Bragantino"
   ]
  },
  {
   "cell_type": "code",
   "execution_count": 22,
   "id": "4a8ce4a9-f8e7-48d3-b913-9afb5c2290cb",
   "metadata": {},
   "outputs": [
    {
     "data": {
      "text/plain": [
       "vencedor\n",
       "Bragantino       2\n",
       "Internacional    1\n",
       "Cuiaba           1\n",
       "Santos           1\n",
       "Atletico-MG      1\n",
       "Name: count, dtype: int64"
      ]
     },
     "execution_count": 22,
     "metadata": {},
     "output_type": "execute_result"
    }
   ],
   "source": [
    "# verificando maiores vencedores na faixa de jogos de manhã\n",
    "br_filtrado3 = br_23[br_23['categoria_hora']=='Manhã']\n",
    "br_filtrado3['vencedor'].value_counts().head(5)"
   ]
  },
  {
   "cell_type": "code",
   "execution_count": 23,
   "id": "dd88ce1b-6be3-4b7a-b10c-6f9d088fffe9",
   "metadata": {},
   "outputs": [
    {
     "data": {
      "text/plain": [
       "array(['Palmeiras', 'Fluminense', 'Bragantino', 'Athletico-PR',\n",
       "       'Botafogo-RJ', 'Vasco', 'Flamengo', 'Corinthians', 'Gremio',\n",
       "       'Sao Paulo', 'Cruzeiro', 'Internacional', 'Fortaleza', 'Goias',\n",
       "       'Santos', 'Atletico-MG', 'Bahia', 'Cuiaba', 'America-MG',\n",
       "       'Coritiba'], dtype=object)"
      ]
     },
     "execution_count": 23,
     "metadata": {},
     "output_type": "execute_result"
    }
   ],
   "source": [
    "br_23['vencedor'].unique()"
   ]
  },
  {
   "cell_type": "code",
   "execution_count": null,
   "id": "1d1e993a-3add-49bf-9cea-13a7e6143ade",
   "metadata": {},
   "outputs": [],
   "source": []
  }
 ],
 "metadata": {
  "kernelspec": {
   "display_name": "Python [conda env:base] *",
   "language": "python",
   "name": "conda-base-py"
  },
  "language_info": {
   "codemirror_mode": {
    "name": "ipython",
    "version": 3
   },
   "file_extension": ".py",
   "mimetype": "text/x-python",
   "name": "python",
   "nbconvert_exporter": "python",
   "pygments_lexer": "ipython3",
   "version": "3.12.3"
  }
 },
 "nbformat": 4,
 "nbformat_minor": 5
}
