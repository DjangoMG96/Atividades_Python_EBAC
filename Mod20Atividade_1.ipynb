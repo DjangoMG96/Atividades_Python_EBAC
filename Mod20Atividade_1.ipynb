{
 "cells": [
  {
   "cell_type": "markdown",
   "id": "57194dc5-6629-4a5f-a53a-0ed8eef0a1ac",
   "metadata": {},
   "source": [
    "# Atividade 1 - MOD20 "
   ]
  },
  {
   "cell_type": "markdown",
   "id": "a8817940-2f92-4a28-9c1c-bcf7770beeb6",
   "metadata": {},
   "source": [
    "Use Markdown + LaTEx e chege nesse mesmo resultado da imagem: \n",
    "\n",
    "![Minha Imagem](Tarefa2.PNG)"
   ]
  },
  {
   "cell_type": "markdown",
   "id": "7ed5940e-9261-4659-a53e-4981606d6328",
   "metadata": {},
   "source": [
    "------------------------------------------------------------------------------------"
   ]
  },
  {
   "cell_type": "markdown",
   "id": "ecd5a134-37e6-4fd4-a48c-4ba5aaa64139",
   "metadata": {},
   "source": [
    "$ \\textcolor{blue}{\\text{Fórmula de Bhaskara}} $"
   ]
  },
  {
   "cell_type": "markdown",
   "id": "02ef016f-b225-424e-8498-e2cdff9b6e2c",
   "metadata": {},
   "source": [
    "A solução para uma função de segundo grau depende das suas raizes (valores de x). Como já vimos os coeficientes precisam ser números reais e o angular de zero. Sendo assim, temos a seguinte fórmula de Bhaskara:"
   ]
  },
  {
   "cell_type": "markdown",
   "id": "90eee823-79a5-46e8-b526-9456b7e42e82",
   "metadata": {},
   "source": [
    "$$x=\\frac{-b\\pm\\sqrt{b^2-4.a.c}}{2.a}$$"
   ]
  },
  {
   "cell_type": "markdown",
   "id": "fc07edff-924e-40c2-859e-0227f0fd657a",
   "metadata": {},
   "source": [
    "Fórmula de Bhaskara"
   ]
  },
  {
   "cell_type": "markdown",
   "id": "52294070-d8ca-4899-8e12-2c281caa02ba",
   "metadata": {},
   "source": [
    "Para melhor compreesão o seu cálculo é dividido em duas partes: discriminante da equação e operações para determinar as raizes."
   ]
  },
  {
   "cell_type": "markdown",
   "id": "f81b46d6-bf63-45dc-8ae0-21262dc41299",
   "metadata": {},
   "source": [
    "**Discriminante**"
   ]
  },
  {
   "cell_type": "markdown",
   "id": "3c5551ec-4490-489a-b953-a06943f4f145",
   "metadata": {},
   "source": [
    "A figura da raiz na formula de Bhaskara é nomeda de discriminante. Seu símbolo é a letra grega $\\Delta$ (Delta) e apresenta a determinada formula:"
   ]
  },
  {
   "cell_type": "markdown",
   "id": "810104ba-95ae-4de1-b7b3-4ce035c0d586",
   "metadata": {},
   "source": [
    "$$\\Delta = b^2 - 4.a.a$$"
   ]
  },
  {
   "cell_type": "code",
   "execution_count": null,
   "id": "1b7e43cf-a980-4ba0-87c3-e7ac87f14a9b",
   "metadata": {},
   "outputs": [],
   "source": [
    "Fómula da discriminante"
   ]
  },
  {
   "cell_type": "markdown",
   "id": "62c5f08c-61e6-489b-bae5-6ad21f8cdba2",
   "metadata": {},
   "source": [
    "* Se o delta for maior que zero, a equação terá dois valores reais e distintos.\n",
    "* Se o delta for igual a zero, a equação terá somente um valor real ou dois resultados iguais.\n",
    "* Se o delta for menor que zero, a equação não possuirá valores reais. "
   ]
  }
 ],
 "metadata": {
  "kernelspec": {
   "display_name": "Python [conda env:base] *",
   "language": "python",
   "name": "conda-base-py"
  },
  "language_info": {
   "codemirror_mode": {
    "name": "ipython",
    "version": 3
   },
   "file_extension": ".py",
   "mimetype": "text/x-python",
   "name": "python",
   "nbconvert_exporter": "python",
   "pygments_lexer": "ipython3",
   "version": "3.12.3"
  }
 },
 "nbformat": 4,
 "nbformat_minor": 5
}
